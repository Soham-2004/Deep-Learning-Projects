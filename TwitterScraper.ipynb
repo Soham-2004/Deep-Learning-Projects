{
 "cells": [
  {
   "cell_type": "code",
   "execution_count": 31,
   "metadata": {},
   "outputs": [],
   "source": [
    "#This code uses a twitter developer account to scrape tweets about the coronavirus situation and writes them in a csv for further analysis.\n",
    "import time\n",
    "import tweepy\n",
    "import csv\n",
    "\n",
    "# == OAuth Authentication ==\n",
    "# The consumer keys can be found on your application's Details\n",
    "# page located at https://dev.twitter.com/apps (under \"OAuth settings\")\n",
    "consumer_key=\"6sEwzWm6daNkew9PUskisDtmc\"\n",
    "consumer_secret=\"ND7IfMbyTUGg5miLx4TEzIhsStOxvSjiYmO58z7PzkfXZaK6LE\"\n",
    "\n",
    "# After the step above, you will be redirected to your app's page.\n",
    "# Create an access token under the the \"Your access token\" section\n",
    "access_token=\"1262730291908501508-d3bDDrlZdBbLHAlkeQspBHBlVSnno2\"\n",
    "access_token_secret=\"AqWfhEp5Onu4dW2yiIKbrgEOYV8G4PAxvshNXdiBU0POk\"\n",
    "\n",
    "# OAuth process, using the keys and tokens\n",
    "auth = tweepy.OAuthHandler(consumer_key, consumer_secret)\n",
    "auth.set_access_token(access_token, access_token_secret)\n",
    "\n",
    "# Creation of the actual interface, using authentication\n",
    "api = tweepy.API(auth)\n",
    "\n",
    "results = api.search('coronavirus', count=100)\n",
    "\n",
    "csvfile = open('my_scraped_tweets.csv','w')\n",
    "csvwriter = csv.writer(csvfile)\n",
    "unicode = str\n",
    "for item in results:\n",
    "\t# write out the user, the tweet and their follower count into a file\n",
    "\t# the unicode bits are required to write non ASCII language bits into the file\n",
    "\tcsvwriter.writerow([unicode(item.user.screen_name).encode(\"utf-8\"),unicode(item.text).encode(\"utf-8\"),item.user.followers_count])\n",
    "\t# time.sleep(1)"
   ]
  }
 ],
 "metadata": {
  "kernelspec": {
   "display_name": "Python 3",
   "language": "python",
   "name": "python3"
  },
  "language_info": {
   "codemirror_mode": {
    "name": "ipython",
    "version": 3
   },
   "file_extension": ".py",
   "mimetype": "text/x-python",
   "name": "python",
   "nbconvert_exporter": "python",
   "pygments_lexer": "ipython3",
   "version": "3.7.6"
  }
 },
 "nbformat": 4,
 "nbformat_minor": 4
}
